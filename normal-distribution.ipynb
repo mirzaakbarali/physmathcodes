{
 "cells": [
  {
   "cell_type": "markdown",
   "id": "0dcb497b",
   "metadata": {},
   "source": [
    "### Importing libraries and settingfigure parameters"
   ]
  },
  {
   "cell_type": "code",
   "execution_count": 1,
   "id": "cd4591b8",
   "metadata": {},
   "outputs": [],
   "source": [
    "import numpy as np\n",
    "import matplotlib.pyplot as plt\n",
    "import numpy as np\n",
    "import matplotlib.pyplot as plt\n",
    "import matplotlib as mpl\n",
    "import math\n",
    "from scipy.spatial.distance import pdist\n",
    "from sklearn.linear_model import LinearRegression\n",
    "from scipy.stats import norm\n",
    "from scipy.integrate import quad\n",
    "\n",
    "plt.rcParams.update({\n",
    "        \"pgf.texsystem\": \"pdflatex\",\n",
    "        'font.family': 'serif',\n",
    "        'text.usetex': True,\n",
    "        'pgf.rcfonts': False,\n",
    "        'axes.linewidth': 2,\n",
    "        'lines.linewidth': 2,\n",
    "        'figure.figsize': (6,4)      # adjust this value to resize the figure (width, height)\n",
    "    })\n",
    "plt.rc('font', size=12)\n",
    "plt.rc('axes', labelsize=12)\n",
    "plt.rc('xtick', labelsize=14)\n",
    "plt.rc('ytick', labelsize=14)"
   ]
  },
  {
   "cell_type": "markdown",
   "id": "b4125f94",
   "metadata": {},
   "source": [
    "#### Function to plot normal distribution with given mean and standard deviation."
   ]
  },
  {
   "cell_type": "code",
   "execution_count": 2,
   "id": "a583526e",
   "metadata": {},
   "outputs": [],
   "source": [
    "def plot_normal_distribution(mean, std_dev, num_points=1000):\n",
    "    # Generate data points for the normal distribution\n",
    "    x = np.linspace(mean - 4*std_dev, mean + 4*std_dev, num_points)\n",
    "    y = (1/(std_dev * np.sqrt(2*np.pi))) * np.exp(-(x-mean)**2 / (2*std_dev**2))\n",
    "\n",
    "    # Plot the normal distribution\n",
    "    plt.plot(x, y)\n",
    "    plt.axvline(mean, linestyle='--', color='r')\n",
    "    \n",
    "    # Add vertical lines for 1, 2, 3, and 4 standard deviations\n",
    "    for i in range(1, 5):\n",
    "        plt.axvline(mean + i*std_dev, linestyle='--', color='r')\n",
    "        plt.axvline(mean - i*std_dev, linestyle='--', color='r')\n",
    "\n",
    "    # Calculate and print the percentages within 1, 2, 3, and 4 standard deviations\n",
    "    cdf_values = [norm.cdf(mean + i*std_dev, loc=mean, scale=std_dev) - norm.cdf(mean - i*std_dev, loc=mean, scale=std_dev) for i in range(1, 5)]\n",
    "    for i, percentage in enumerate(cdf_values, start=1):\n",
    "        print(f'Percentage within {i} standard deviations: {percentage*100:.2f}%')\n",
    "\n",
    "    plt.title('Normal Distribution with Standard Deviations')\n",
    "    plt.xlabel(fr'$\\mu={mean}$' + fr'$\\quad\\sigma={std_dev}$')\n",
    "    plt.grid(True)\n",
    "#     plt.yticks([])\n",
    "    \n",
    "    # Show ticks at integer multiples of standard deviation\n",
    "    tick_positions = np.arange(-4, 5) * std_dev + mean\n",
    "   \n",
    "    # Add labels for 1, 2, 3, and 4 standard deviations on the top x-axis\n",
    "    tick_labels = [f'{i}$\\sigma$' if i != 0 else fr'$\\mu$' for i in range(-4, 5)]\n",
    "    plt.xticks(tick_positions, tick_labels)\n",
    "    plt.show()"
   ]
  },
  {
   "cell_type": "markdown",
   "id": "f9fbb9cf",
   "metadata": {},
   "source": [
    "#### Function to calculate area under the curve for selected upper and lower multiples of standard deviation."
   ]
  },
  {
   "cell_type": "code",
   "execution_count": 3,
   "id": "8f09bdc8",
   "metadata": {},
   "outputs": [],
   "source": [
    "def area_under_curve(mean, std_dev, lower_multiple, upper_multiple):\n",
    "    # Define the range for integration\n",
    "    lower_bound = mean - lower_multiple * std_dev\n",
    "    upper_bound = mean + upper_multiple * std_dev\n",
    "\n",
    "    # Define the PDF of the normal distribution\n",
    "    pdf = lambda x: (1/(std_dev * np.sqrt(2*np.pi))) * np.exp(-(x - mean)**2 / (2*std_dev**2))\n",
    "\n",
    "    # Integrate the PDF within the specified range\n",
    "    area, _ = quad(pdf, lower_bound, upper_bound)\n",
    "    print(f\"Area under the curve between {lower_multiple} and {upper_multiple} standard deviations: {area:.4f}\")\n",
    "    return"
   ]
  },
  {
   "cell_type": "markdown",
   "id": "2a91bd63",
   "metadata": {},
   "source": [
    "#### Function to plot normal distribution with highlighted region for selected upper and lower multiples of standard deviation. for given mean and standard deviation."
   ]
  },
  {
   "cell_type": "code",
   "execution_count": 11,
   "id": "e00a1be9",
   "metadata": {},
   "outputs": [],
   "source": [
    "def plot_normal_distribution(mean, std_dev, num_points=1000, highlight_range=None):\n",
    "    # Generate data points for the normal distribution\n",
    "    x = np.linspace(mean - 4*std_dev, mean + 4*std_dev, num_points)\n",
    "    y = (1/(std_dev * np.sqrt(2*np.pi))) * np.exp(-(x-mean)**2 / (2*std_dev**2))\n",
    "\n",
    "    # Plot the normal distribution\n",
    "    plt.plot(x, y)\n",
    "    plt.axvline(mean, linestyle='--', color='r')\n",
    "    \n",
    "    # Add vertical lines for 1, 2, 3, and 4 standard deviations\n",
    "    for i in range(1, 5):\n",
    "        plt.axvline(mean + i*std_dev, linestyle='--', color='r')\n",
    "        plt.axvline(mean - i*std_dev, linestyle='--', color='r')\n",
    "\n",
    "    # Highlight the area under the curve for the specified range\n",
    "    if highlight_range is not None:\n",
    "        lower_multiple, upper_multiple = highlight_range\n",
    "        x_fill = np.linspace(lower_multiple, upper_multiple, num_points)\n",
    "        y_fill = norm.pdf(x_fill, loc=mean, scale=std_dev)\n",
    "        plt.fill_between(x_fill, y_fill, color='yellow', alpha=0.3)\n",
    "\n",
    "    plt.title('Normal Distribution with Standard Deviations')\n",
    "    plt.xlabel(fr'$\\mu={mean}$' + fr'$\\quad\\sigma={std_dev}$')\n",
    "    plt.grid(True)\n",
    "    \n",
    "    # Show ticks at integer multiples of standard deviation\n",
    "    tick_positions = np.arange(-4, 5) * std_dev + mean\n",
    "   \n",
    "    # Add labels for 1, 2, 3, and 4 standard deviations on the top x-axis\n",
    "    tick_labels = [f'{i}$\\sigma$' if i != 0 else fr'$\\mu$' for i in range(-4, 5)]\n",
    "    plt.xticks(tick_positions, tick_labels)\n",
    "    plt.yticks([0,1])\n",
    "\n",
    "    plt.show()\n"
   ]
  },
  {
   "cell_type": "markdown",
   "id": "de3bade1",
   "metadata": {},
   "source": [
    "#### Defining mean, standard deviation, lower and upper bound to calculate probability. "
   ]
  },
  {
   "cell_type": "code",
   "execution_count": 12,
   "id": "aa43dbd8",
   "metadata": {},
   "outputs": [],
   "source": [
    "mean_value = 15\n",
    "std_deviation = 4\n",
    "lower_multiple = 3.5\n",
    "upper_multiple = 1"
   ]
  },
  {
   "cell_type": "markdown",
   "id": "8dbaf133",
   "metadata": {},
   "source": [
    "#### Plotting normal distribution for the given mean and standard deviation"
   ]
  },
  {
   "cell_type": "code",
   "execution_count": 13,
   "id": "9fd0295c",
   "metadata": {
    "scrolled": false
   },
   "outputs": [
    {
     "data": {
      "image/png": "[encoded data removed]",
      "text/plain": [
       "<Figure size 600x400 with 1 Axes>"
      ]
     },
     "metadata": {},
     "output_type": "display_data"
    }
   ],
   "source": [
    "plot_normal_distribution(mean_value, std_deviation)"
   ]
  },
  {
   "cell_type": "markdown",
   "id": "4c8c9093",
   "metadata": {},
   "source": [
    "#### Plotting highlighted region for lower and upper bound."
   ]
  },
  {
   "cell_type": "code",
   "execution_count": 14,
   "id": "78495bf6",
   "metadata": {},
   "outputs": [
    {
     "data": {
      "image/png": "[encoded data removed]",
      "text/plain": [
       "<Figure size 600x400 with 1 Axes>"
      ]
     },
     "metadata": {},
     "output_type": "display_data"
    }
   ],
   "source": [
    "highlight_range = (mean_value - lower_multiple * std_deviation, mean_value + upper_multiple * std_deviation)\n",
    "plot_normal_distribution(mean_value, std_deviation, highlight_range=highlight_range)"
   ]
  },
  {
   "cell_type": "markdown",
   "id": "667eed70",
   "metadata": {},
   "source": [
    "#### Calculating area under the curve for selected lower and upper bound which gives probability."
   ]
  },
  {
   "cell_type": "code",
   "execution_count": 80,
   "id": "0e04b056",
   "metadata": {},
   "outputs": [
    {
     "name": "stdout",
     "output_type": "stream",
     "text": [
      "Area under the curve between 3.5 and 1 standard deviations: 0.8411\n"
     ]
    }
   ],
   "source": [
    "area_under_curve(mean_value, std_deviation, lower_multiple, upper_multiple)"
   ]
  }
 ],
 "metadata": {
  "kernelspec": {
   "display_name": "Python 3 (ipykernel)",
   "language": "python",
   "name": "python3"
  },
  "language_info": {
   "codemirror_mode": {
    "name": "ipython",
    "version": 3
   },
   "file_extension": ".py",
   "mimetype": "text/x-python",
   "name": "python",
   "nbconvert_exporter": "python",
   "pygments_lexer": "ipython3",
   "version": "3.11.4"
  }
 },
 "nbformat": 4,
 "nbformat_minor": 5
}
